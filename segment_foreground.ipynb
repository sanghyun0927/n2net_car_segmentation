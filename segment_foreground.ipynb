{
 "cells": [
  {
   "cell_type": "code",
   "execution_count": 1,
   "outputs": [],
   "source": [
    "import os\n",
    "import numpy as np\n",
    "\n",
    "from PIL import Image\n",
    "import cv2\n",
    "\n",
    "from tqdm import tqdm"
   ],
   "metadata": {
    "collapsed": false
   }
  },
  {
   "cell_type": "code",
   "execution_count": 4,
   "outputs": [],
   "source": [
    "for name in os.listdir('images'):\n",
    "    img_path = './images/' + name\n",
    "    mask_path = './outputs/u2car_v0.0/' + name.split(\".\")[0] + '.png'\n",
    "    final_path = './final/u2car_v0.0/' + name.split(\".\")[0] + '.png'\n",
    "\n",
    "    img = cv2.imread(img_path)\n",
    "    mask = cv2.imread(mask_path, 0)\n",
    "\n",
    "    result = cv2.merge([img, mask])\n",
    "\n",
    "    cv2.imwrite(final_path, result)"
   ],
   "metadata": {
    "collapsed": false
   }
  },
  {
   "cell_type": "code",
   "execution_count": 2,
   "outputs": [
    {
     "name": "stderr",
     "output_type": "stream",
     "text": [
      "100%|██████████| 1019/1019 [00:01<00:00, 893.90it/s]\n"
     ]
    }
   ],
   "source": [
    "from shutil import copyfile\n",
    "\n",
    "for name in tqdm(os.listdir('.\\\\charancha_logo_train\\\\')):\n",
    "    name_ = name.split(\".\")[0]\n",
    "    copyfile('./charancha_logo_train/'+name, './train/'+name_+'.jpg')"
   ],
   "metadata": {
    "collapsed": false
   }
  },
  {
   "cell_type": "code",
   "execution_count": 31,
   "outputs": [
    {
     "name": "stderr",
     "output_type": "stream",
     "text": [
      "100%|██████████| 1022/1022 [00:33<00:00, 30.85it/s]\n"
     ]
    }
   ],
   "source": [
    "for name in tqdm(os.listdir('charancha_logo_train')):\n",
    "    img_path = './charancha_logo_train/' + name\n",
    "    mask_path = './charancha_logo_masks/' + name.split(\".\")[0] + '_mask.gif'\n",
    "    final_path = './charancha_logo_fore/' + name.split(\".\")[0] + '.png'\n",
    "\n",
    "    img = cv2.imread(img_path)\n",
    "    mask = np.array(Image.open(mask_path)) * 255\n",
    "\n",
    "    mask = np.where(mask < 128, 0, 255).astype('uint8')\n",
    "\n",
    "    result = cv2.merge([img, mask])\n",
    "\n",
    "    cv2.imwrite(final_path, result)"
   ],
   "metadata": {
    "collapsed": false
   }
  },
  {
   "cell_type": "code",
   "execution_count": null,
   "outputs": [],
   "source": [],
   "metadata": {
    "collapsed": false
   }
  }
 ],
 "metadata": {
  "kernelspec": {
   "display_name": "Python 3",
   "language": "python",
   "name": "python3"
  },
  "language_info": {
   "codemirror_mode": {
    "name": "ipython",
    "version": 2
   },
   "file_extension": ".py",
   "mimetype": "text/x-python",
   "name": "python",
   "nbconvert_exporter": "python",
   "pygments_lexer": "ipython2",
   "version": "2.7.6"
  }
 },
 "nbformat": 4,
 "nbformat_minor": 0
}
