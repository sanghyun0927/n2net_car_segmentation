{
 "cells": [
  {
   "cell_type": "code",
   "execution_count": 3,
   "outputs": [],
   "source": [
    "import os\n",
    "import cv2\n",
    "\n",
    "from tqdm import tqdm"
   ],
   "metadata": {
    "collapsed": false
   }
  },
  {
   "cell_type": "code",
   "execution_count": 4,
   "outputs": [],
   "source": [
    "for name in os.listdir('images'):\n",
    "    img_path = './images/' + name\n",
    "    mask_path = './outputs/u2car_v0.0/' + name.split(\".\")[0] + '.png'\n",
    "    final_path = './final/u2car_v0.0/' + name.split(\".\")[0] + '.png'\n",
    "\n",
    "    img = cv2.imread(img_path)\n",
    "    mask = cv2.imread(mask_path, 0)\n",
    "\n",
    "    result = cv2.merge([img, mask])\n",
    "\n",
    "    cv2.imwrite(final_path, result)"
   ],
   "metadata": {
    "collapsed": false
   }
  },
  {
   "cell_type": "code",
   "execution_count": 4,
   "outputs": [],
   "source": [],
   "metadata": {
    "collapsed": false
   }
  }
 ],
 "metadata": {
  "kernelspec": {
   "display_name": "Python 3",
   "language": "python",
   "name": "python3"
  },
  "language_info": {
   "codemirror_mode": {
    "name": "ipython",
    "version": 2
   },
   "file_extension": ".py",
   "mimetype": "text/x-python",
   "name": "python",
   "nbconvert_exporter": "python",
   "pygments_lexer": "ipython2",
   "version": "2.7.6"
  }
 },
 "nbformat": 4,
 "nbformat_minor": 0
}
